{
  "nbformat": 4,
  "nbformat_minor": 0,
  "metadata": {
    "colab": {
      "provenance": [],
      "gpuType": "T4",
      "authorship_tag": "ABX9TyN06XIV6BtGNys2ZmF2DwXQ",
      "include_colab_link": true
    },
    "kernelspec": {
      "name": "python3",
      "display_name": "Python 3"
    },
    "language_info": {
      "name": "python"
    },
    "accelerator": "GPU",
    "widgets": {
      "application/vnd.jupyter.widget-state+json": {
        "15484382583b45bcaf29200ce9e66b7b": {
          "model_module": "@jupyter-widgets/controls",
          "model_name": "VBoxModel",
          "model_module_version": "1.5.0",
          "state": {
            "_dom_classes": [],
            "_model_module": "@jupyter-widgets/controls",
            "_model_module_version": "1.5.0",
            "_model_name": "VBoxModel",
            "_view_count": null,
            "_view_module": "@jupyter-widgets/controls",
            "_view_module_version": "1.5.0",
            "_view_name": "VBoxView",
            "box_style": "",
            "children": [],
            "layout": "IPY_MODEL_d95babac8e4a4a39adfc86da11c19f64"
          }
        },
        "10d7e6bf70d94c67bb2eafe4b2388c96": {
          "model_module": "@jupyter-widgets/controls",
          "model_name": "HTMLModel",
          "model_module_version": "1.5.0",
          "state": {
            "_dom_classes": [],
            "_model_module": "@jupyter-widgets/controls",
            "_model_module_version": "1.5.0",
            "_model_name": "HTMLModel",
            "_view_count": null,
            "_view_module": "@jupyter-widgets/controls",
            "_view_module_version": "1.5.0",
            "_view_name": "HTMLView",
            "description": "",
            "description_tooltip": null,
            "layout": "IPY_MODEL_d20b3ad31c5f4c36918c84d75a580c4d",
            "placeholder": "​",
            "style": "IPY_MODEL_3624fb474028477f9ca30a5cc4b8adeb",
            "value": "<center> <img\nsrc=https://huggingface.co/front/assets/huggingface_logo-noborder.svg\nalt='Hugging Face'> <br> Copy a token from <a\nhref=\"https://huggingface.co/settings/tokens\" target=\"_blank\">your Hugging Face\ntokens page</a> and paste it below. <br> Immediately click login after copying\nyour token or it might be stored in plain text in this notebook file. </center>"
          }
        },
        "b54be57c74a24de493424697f0f32f67": {
          "model_module": "@jupyter-widgets/controls",
          "model_name": "PasswordModel",
          "model_module_version": "1.5.0",
          "state": {
            "_dom_classes": [],
            "_model_module": "@jupyter-widgets/controls",
            "_model_module_version": "1.5.0",
            "_model_name": "PasswordModel",
            "_view_count": null,
            "_view_module": "@jupyter-widgets/controls",
            "_view_module_version": "1.5.0",
            "_view_name": "PasswordView",
            "continuous_update": true,
            "description": "Token:",
            "description_tooltip": null,
            "disabled": false,
            "layout": "IPY_MODEL_fd49d71f973e4a68876e961a6ead604e",
            "placeholder": "​",
            "style": "IPY_MODEL_afe8d37f2e9e4a99961689945e064086",
            "value": ""
          }
        },
        "e6e2b595a84c44869366adc56c7f62dd": {
          "model_module": "@jupyter-widgets/controls",
          "model_name": "CheckboxModel",
          "model_module_version": "1.5.0",
          "state": {
            "_dom_classes": [],
            "_model_module": "@jupyter-widgets/controls",
            "_model_module_version": "1.5.0",
            "_model_name": "CheckboxModel",
            "_view_count": null,
            "_view_module": "@jupyter-widgets/controls",
            "_view_module_version": "1.5.0",
            "_view_name": "CheckboxView",
            "description": "Add token as git credential?",
            "description_tooltip": null,
            "disabled": false,
            "indent": true,
            "layout": "IPY_MODEL_788411e8aaa1406982a94543aba5424d",
            "style": "IPY_MODEL_e051bc337ad24168933b4db1f56622d0",
            "value": true
          }
        },
        "f88b3583726c4e1ab45bd6265e91f58a": {
          "model_module": "@jupyter-widgets/controls",
          "model_name": "ButtonModel",
          "model_module_version": "1.5.0",
          "state": {
            "_dom_classes": [],
            "_model_module": "@jupyter-widgets/controls",
            "_model_module_version": "1.5.0",
            "_model_name": "ButtonModel",
            "_view_count": null,
            "_view_module": "@jupyter-widgets/controls",
            "_view_module_version": "1.5.0",
            "_view_name": "ButtonView",
            "button_style": "",
            "description": "Login",
            "disabled": false,
            "icon": "",
            "layout": "IPY_MODEL_d4fe2903e37046bfaac71f377d8dc2b7",
            "style": "IPY_MODEL_d72747be8b64437f93faf558e6674817",
            "tooltip": ""
          }
        },
        "67e64d2ca4514cd0bc242465f51cc481": {
          "model_module": "@jupyter-widgets/controls",
          "model_name": "HTMLModel",
          "model_module_version": "1.5.0",
          "state": {
            "_dom_classes": [],
            "_model_module": "@jupyter-widgets/controls",
            "_model_module_version": "1.5.0",
            "_model_name": "HTMLModel",
            "_view_count": null,
            "_view_module": "@jupyter-widgets/controls",
            "_view_module_version": "1.5.0",
            "_view_name": "HTMLView",
            "description": "",
            "description_tooltip": null,
            "layout": "IPY_MODEL_6fe47c79429843038d0a640a345a191c",
            "placeholder": "​",
            "style": "IPY_MODEL_2e7a30f4316941e2a3a6fbcb9d4137cc",
            "value": "\n<b>Pro Tip:</b> If you don't already have one, you can create a dedicated\n'notebooks' token with 'write' access, that you can then easily reuse for all\nnotebooks. </center>"
          }
        },
        "d95babac8e4a4a39adfc86da11c19f64": {
          "model_module": "@jupyter-widgets/base",
          "model_name": "LayoutModel",
          "model_module_version": "1.2.0",
          "state": {
            "_model_module": "@jupyter-widgets/base",
            "_model_module_version": "1.2.0",
            "_model_name": "LayoutModel",
            "_view_count": null,
            "_view_module": "@jupyter-widgets/base",
            "_view_module_version": "1.2.0",
            "_view_name": "LayoutView",
            "align_content": null,
            "align_items": "center",
            "align_self": null,
            "border": null,
            "bottom": null,
            "display": "flex",
            "flex": null,
            "flex_flow": "column",
            "grid_area": null,
            "grid_auto_columns": null,
            "grid_auto_flow": null,
            "grid_auto_rows": null,
            "grid_column": null,
            "grid_gap": null,
            "grid_row": null,
            "grid_template_areas": null,
            "grid_template_columns": null,
            "grid_template_rows": null,
            "height": null,
            "justify_content": null,
            "justify_items": null,
            "left": null,
            "margin": null,
            "max_height": null,
            "max_width": null,
            "min_height": null,
            "min_width": null,
            "object_fit": null,
            "object_position": null,
            "order": null,
            "overflow": null,
            "overflow_x": null,
            "overflow_y": null,
            "padding": null,
            "right": null,
            "top": null,
            "visibility": null,
            "width": "50%"
          }
        },
        "d20b3ad31c5f4c36918c84d75a580c4d": {
          "model_module": "@jupyter-widgets/base",
          "model_name": "LayoutModel",
          "model_module_version": "1.2.0",
          "state": {
            "_model_module": "@jupyter-widgets/base",
            "_model_module_version": "1.2.0",
            "_model_name": "LayoutModel",
            "_view_count": null,
            "_view_module": "@jupyter-widgets/base",
            "_view_module_version": "1.2.0",
            "_view_name": "LayoutView",
            "align_content": null,
            "align_items": null,
            "align_self": null,
            "border": null,
            "bottom": null,
            "display": null,
            "flex": null,
            "flex_flow": null,
            "grid_area": null,
            "grid_auto_columns": null,
            "grid_auto_flow": null,
            "grid_auto_rows": null,
            "grid_column": null,
            "grid_gap": null,
            "grid_row": null,
            "grid_template_areas": null,
            "grid_template_columns": null,
            "grid_template_rows": null,
            "height": null,
            "justify_content": null,
            "justify_items": null,
            "left": null,
            "margin": null,
            "max_height": null,
            "max_width": null,
            "min_height": null,
            "min_width": null,
            "object_fit": null,
            "object_position": null,
            "order": null,
            "overflow": null,
            "overflow_x": null,
            "overflow_y": null,
            "padding": null,
            "right": null,
            "top": null,
            "visibility": null,
            "width": null
          }
        },
        "3624fb474028477f9ca30a5cc4b8adeb": {
          "model_module": "@jupyter-widgets/controls",
          "model_name": "DescriptionStyleModel",
          "model_module_version": "1.5.0",
          "state": {
            "_model_module": "@jupyter-widgets/controls",
            "_model_module_version": "1.5.0",
            "_model_name": "DescriptionStyleModel",
            "_view_count": null,
            "_view_module": "@jupyter-widgets/base",
            "_view_module_version": "1.2.0",
            "_view_name": "StyleView",
            "description_width": ""
          }
        },
        "fd49d71f973e4a68876e961a6ead604e": {
          "model_module": "@jupyter-widgets/base",
          "model_name": "LayoutModel",
          "model_module_version": "1.2.0",
          "state": {
            "_model_module": "@jupyter-widgets/base",
            "_model_module_version": "1.2.0",
            "_model_name": "LayoutModel",
            "_view_count": null,
            "_view_module": "@jupyter-widgets/base",
            "_view_module_version": "1.2.0",
            "_view_name": "LayoutView",
            "align_content": null,
            "align_items": null,
            "align_self": null,
            "border": null,
            "bottom": null,
            "display": null,
            "flex": null,
            "flex_flow": null,
            "grid_area": null,
            "grid_auto_columns": null,
            "grid_auto_flow": null,
            "grid_auto_rows": null,
            "grid_column": null,
            "grid_gap": null,
            "grid_row": null,
            "grid_template_areas": null,
            "grid_template_columns": null,
            "grid_template_rows": null,
            "height": null,
            "justify_content": null,
            "justify_items": null,
            "left": null,
            "margin": null,
            "max_height": null,
            "max_width": null,
            "min_height": null,
            "min_width": null,
            "object_fit": null,
            "object_position": null,
            "order": null,
            "overflow": null,
            "overflow_x": null,
            "overflow_y": null,
            "padding": null,
            "right": null,
            "top": null,
            "visibility": null,
            "width": null
          }
        },
        "afe8d37f2e9e4a99961689945e064086": {
          "model_module": "@jupyter-widgets/controls",
          "model_name": "DescriptionStyleModel",
          "model_module_version": "1.5.0",
          "state": {
            "_model_module": "@jupyter-widgets/controls",
            "_model_module_version": "1.5.0",
            "_model_name": "DescriptionStyleModel",
            "_view_count": null,
            "_view_module": "@jupyter-widgets/base",
            "_view_module_version": "1.2.0",
            "_view_name": "StyleView",
            "description_width": ""
          }
        },
        "788411e8aaa1406982a94543aba5424d": {
          "model_module": "@jupyter-widgets/base",
          "model_name": "LayoutModel",
          "model_module_version": "1.2.0",
          "state": {
            "_model_module": "@jupyter-widgets/base",
            "_model_module_version": "1.2.0",
            "_model_name": "LayoutModel",
            "_view_count": null,
            "_view_module": "@jupyter-widgets/base",
            "_view_module_version": "1.2.0",
            "_view_name": "LayoutView",
            "align_content": null,
            "align_items": null,
            "align_self": null,
            "border": null,
            "bottom": null,
            "display": null,
            "flex": null,
            "flex_flow": null,
            "grid_area": null,
            "grid_auto_columns": null,
            "grid_auto_flow": null,
            "grid_auto_rows": null,
            "grid_column": null,
            "grid_gap": null,
            "grid_row": null,
            "grid_template_areas": null,
            "grid_template_columns": null,
            "grid_template_rows": null,
            "height": null,
            "justify_content": null,
            "justify_items": null,
            "left": null,
            "margin": null,
            "max_height": null,
            "max_width": null,
            "min_height": null,
            "min_width": null,
            "object_fit": null,
            "object_position": null,
            "order": null,
            "overflow": null,
            "overflow_x": null,
            "overflow_y": null,
            "padding": null,
            "right": null,
            "top": null,
            "visibility": null,
            "width": null
          }
        },
        "e051bc337ad24168933b4db1f56622d0": {
          "model_module": "@jupyter-widgets/controls",
          "model_name": "DescriptionStyleModel",
          "model_module_version": "1.5.0",
          "state": {
            "_model_module": "@jupyter-widgets/controls",
            "_model_module_version": "1.5.0",
            "_model_name": "DescriptionStyleModel",
            "_view_count": null,
            "_view_module": "@jupyter-widgets/base",
            "_view_module_version": "1.2.0",
            "_view_name": "StyleView",
            "description_width": ""
          }
        },
        "d4fe2903e37046bfaac71f377d8dc2b7": {
          "model_module": "@jupyter-widgets/base",
          "model_name": "LayoutModel",
          "model_module_version": "1.2.0",
          "state": {
            "_model_module": "@jupyter-widgets/base",
            "_model_module_version": "1.2.0",
            "_model_name": "LayoutModel",
            "_view_count": null,
            "_view_module": "@jupyter-widgets/base",
            "_view_module_version": "1.2.0",
            "_view_name": "LayoutView",
            "align_content": null,
            "align_items": null,
            "align_self": null,
            "border": null,
            "bottom": null,
            "display": null,
            "flex": null,
            "flex_flow": null,
            "grid_area": null,
            "grid_auto_columns": null,
            "grid_auto_flow": null,
            "grid_auto_rows": null,
            "grid_column": null,
            "grid_gap": null,
            "grid_row": null,
            "grid_template_areas": null,
            "grid_template_columns": null,
            "grid_template_rows": null,
            "height": null,
            "justify_content": null,
            "justify_items": null,
            "left": null,
            "margin": null,
            "max_height": null,
            "max_width": null,
            "min_height": null,
            "min_width": null,
            "object_fit": null,
            "object_position": null,
            "order": null,
            "overflow": null,
            "overflow_x": null,
            "overflow_y": null,
            "padding": null,
            "right": null,
            "top": null,
            "visibility": null,
            "width": null
          }
        },
        "d72747be8b64437f93faf558e6674817": {
          "model_module": "@jupyter-widgets/controls",
          "model_name": "ButtonStyleModel",
          "model_module_version": "1.5.0",
          "state": {
            "_model_module": "@jupyter-widgets/controls",
            "_model_module_version": "1.5.0",
            "_model_name": "ButtonStyleModel",
            "_view_count": null,
            "_view_module": "@jupyter-widgets/base",
            "_view_module_version": "1.2.0",
            "_view_name": "StyleView",
            "button_color": null,
            "font_weight": ""
          }
        },
        "6fe47c79429843038d0a640a345a191c": {
          "model_module": "@jupyter-widgets/base",
          "model_name": "LayoutModel",
          "model_module_version": "1.2.0",
          "state": {
            "_model_module": "@jupyter-widgets/base",
            "_model_module_version": "1.2.0",
            "_model_name": "LayoutModel",
            "_view_count": null,
            "_view_module": "@jupyter-widgets/base",
            "_view_module_version": "1.2.0",
            "_view_name": "LayoutView",
            "align_content": null,
            "align_items": null,
            "align_self": null,
            "border": null,
            "bottom": null,
            "display": null,
            "flex": null,
            "flex_flow": null,
            "grid_area": null,
            "grid_auto_columns": null,
            "grid_auto_flow": null,
            "grid_auto_rows": null,
            "grid_column": null,
            "grid_gap": null,
            "grid_row": null,
            "grid_template_areas": null,
            "grid_template_columns": null,
            "grid_template_rows": null,
            "height": null,
            "justify_content": null,
            "justify_items": null,
            "left": null,
            "margin": null,
            "max_height": null,
            "max_width": null,
            "min_height": null,
            "min_width": null,
            "object_fit": null,
            "object_position": null,
            "order": null,
            "overflow": null,
            "overflow_x": null,
            "overflow_y": null,
            "padding": null,
            "right": null,
            "top": null,
            "visibility": null,
            "width": null
          }
        },
        "2e7a30f4316941e2a3a6fbcb9d4137cc": {
          "model_module": "@jupyter-widgets/controls",
          "model_name": "DescriptionStyleModel",
          "model_module_version": "1.5.0",
          "state": {
            "_model_module": "@jupyter-widgets/controls",
            "_model_module_version": "1.5.0",
            "_model_name": "DescriptionStyleModel",
            "_view_count": null,
            "_view_module": "@jupyter-widgets/base",
            "_view_module_version": "1.2.0",
            "_view_name": "StyleView",
            "description_width": ""
          }
        },
        "281e991a70574759a9f5898d84a7cec3": {
          "model_module": "@jupyter-widgets/controls",
          "model_name": "LabelModel",
          "model_module_version": "1.5.0",
          "state": {
            "_dom_classes": [],
            "_model_module": "@jupyter-widgets/controls",
            "_model_module_version": "1.5.0",
            "_model_name": "LabelModel",
            "_view_count": null,
            "_view_module": "@jupyter-widgets/controls",
            "_view_module_version": "1.5.0",
            "_view_name": "LabelView",
            "description": "",
            "description_tooltip": null,
            "layout": "IPY_MODEL_6cb7271669fc42b7847092ae8cbb2154",
            "placeholder": "​",
            "style": "IPY_MODEL_3174fa620d7743c19e6dbe703f8233b1",
            "value": "Connecting..."
          }
        },
        "6cb7271669fc42b7847092ae8cbb2154": {
          "model_module": "@jupyter-widgets/base",
          "model_name": "LayoutModel",
          "model_module_version": "1.2.0",
          "state": {
            "_model_module": "@jupyter-widgets/base",
            "_model_module_version": "1.2.0",
            "_model_name": "LayoutModel",
            "_view_count": null,
            "_view_module": "@jupyter-widgets/base",
            "_view_module_version": "1.2.0",
            "_view_name": "LayoutView",
            "align_content": null,
            "align_items": null,
            "align_self": null,
            "border": null,
            "bottom": null,
            "display": null,
            "flex": null,
            "flex_flow": null,
            "grid_area": null,
            "grid_auto_columns": null,
            "grid_auto_flow": null,
            "grid_auto_rows": null,
            "grid_column": null,
            "grid_gap": null,
            "grid_row": null,
            "grid_template_areas": null,
            "grid_template_columns": null,
            "grid_template_rows": null,
            "height": null,
            "justify_content": null,
            "justify_items": null,
            "left": null,
            "margin": null,
            "max_height": null,
            "max_width": null,
            "min_height": null,
            "min_width": null,
            "object_fit": null,
            "object_position": null,
            "order": null,
            "overflow": null,
            "overflow_x": null,
            "overflow_y": null,
            "padding": null,
            "right": null,
            "top": null,
            "visibility": null,
            "width": null
          }
        },
        "3174fa620d7743c19e6dbe703f8233b1": {
          "model_module": "@jupyter-widgets/controls",
          "model_name": "DescriptionStyleModel",
          "model_module_version": "1.5.0",
          "state": {
            "_model_module": "@jupyter-widgets/controls",
            "_model_module_version": "1.5.0",
            "_model_name": "DescriptionStyleModel",
            "_view_count": null,
            "_view_module": "@jupyter-widgets/base",
            "_view_module_version": "1.2.0",
            "_view_name": "StyleView",
            "description_width": ""
          }
        }
      }
    }
  },
  "cells": [
    {
      "cell_type": "markdown",
      "metadata": {
        "id": "view-in-github",
        "colab_type": "text"
      },
      "source": [
        "<a href=\"https://colab.research.google.com/github/biennt/notebooks/blob/main/vllm_testing.ipynb\" target=\"_parent\"><img src=\"https://colab.research.google.com/assets/colab-badge.svg\" alt=\"Open In Colab\"/></a>"
      ]
    },
    {
      "cell_type": "markdown",
      "source": [
        "# Running vLLM on Google Colab\n",
        "\n",
        "1. Install vLLM"
      ],
      "metadata": {
        "id": "O9Mtod4EuvHL"
      }
    },
    {
      "cell_type": "markdown",
      "source": [
        "Check the connected runtime in the top right conner. Make sure that you are connected to a GPU-based runtime (T4, or A100...).\n",
        "\n",
        "If not, let change the runtime. Then issue the ```pip install``` command to install vllm package"
      ],
      "metadata": {
        "id": "FTJ_qgEyw3gv"
      }
    },
    {
      "cell_type": "code",
      "source": [
        "!pip install vllm"
      ],
      "metadata": {
        "id": "rzMcQQ38-74M"
      },
      "execution_count": null,
      "outputs": []
    },
    {
      "cell_type": "markdown",
      "source": [
        "2. Login to Huggingface.\n",
        "You will need an API key, generated from https://huggingface.co/\n",
        "\n",
        "(Under your Profile --> Access Tokens --> Create new token)"
      ],
      "metadata": {
        "id": "rDw9nApUvFq1"
      }
    },
    {
      "cell_type": "code",
      "source": [
        "from huggingface_hub import notebook_login\n",
        "notebook_login()"
      ],
      "metadata": {
        "colab": {
          "base_uri": "https://localhost:8080/",
          "height": 17,
          "referenced_widgets": [
            "15484382583b45bcaf29200ce9e66b7b",
            "10d7e6bf70d94c67bb2eafe4b2388c96",
            "b54be57c74a24de493424697f0f32f67",
            "e6e2b595a84c44869366adc56c7f62dd",
            "f88b3583726c4e1ab45bd6265e91f58a",
            "67e64d2ca4514cd0bc242465f51cc481",
            "d95babac8e4a4a39adfc86da11c19f64",
            "d20b3ad31c5f4c36918c84d75a580c4d",
            "3624fb474028477f9ca30a5cc4b8adeb",
            "fd49d71f973e4a68876e961a6ead604e",
            "afe8d37f2e9e4a99961689945e064086",
            "788411e8aaa1406982a94543aba5424d",
            "e051bc337ad24168933b4db1f56622d0",
            "d4fe2903e37046bfaac71f377d8dc2b7",
            "d72747be8b64437f93faf558e6674817",
            "6fe47c79429843038d0a640a345a191c",
            "2e7a30f4316941e2a3a6fbcb9d4137cc",
            "281e991a70574759a9f5898d84a7cec3",
            "6cb7271669fc42b7847092ae8cbb2154",
            "3174fa620d7743c19e6dbe703f8233b1"
          ]
        },
        "id": "SRCywCCICkDM",
        "outputId": "b4fdf08d-ce94-4ff3-8acc-34606a99ab7d"
      },
      "execution_count": null,
      "outputs": [
        {
          "output_type": "display_data",
          "data": {
            "text/plain": [
              "VBox(children=(HTML(value='<center> <img\\nsrc=https://huggingface.co/front/assets/huggingface_logo-noborder.sv…"
            ],
            "application/vnd.jupyter.widget-view+json": {
              "version_major": 2,
              "version_minor": 0,
              "model_id": "15484382583b45bcaf29200ce9e66b7b"
            }
          },
          "metadata": {}
        }
      ]
    },
    {
      "cell_type": "markdown",
      "source": [
        "3. Running vLLM from command line (seeing the debug log, making sure that we know the required parameters\n",
        "\n",
        "The syntax is:\n",
        " ```\n",
        " vllm serve <model_name> [list of parameters]\n",
        " ```\n"
      ],
      "metadata": {
        "id": "0QhVySj7vujb"
      }
    },
    {
      "cell_type": "code",
      "source": [
        "!vllm serve meta-llama/Llama-3.2-1B --dtype half"
      ],
      "metadata": {
        "id": "UrUmIeeXb4lm"
      },
      "execution_count": null,
      "outputs": []
    },
    {
      "cell_type": "code",
      "source": [
        "# Load and run the model:\n",
        "import subprocess\n",
        "\n",
        "# Start vllm server in the background\n",
        "vllm_process = subprocess.Popen([\n",
        "    'vllm',\n",
        "    'serve',\n",
        "    'meta-llama/Llama-3.2-1B',\n",
        "    '--trust-remote-code',\n",
        "    '--dtype', 'half',\n",
        "], stdout=subprocess.PIPE, stderr=subprocess.PIPE, start_new_session=True)"
      ],
      "metadata": {
        "id": "NxSFWxR3_rm7"
      },
      "execution_count": null,
      "outputs": []
    },
    {
      "cell_type": "code",
      "source": [
        "!ps -ef | grep vllm"
      ],
      "metadata": {
        "colab": {
          "base_uri": "https://localhost:8080/"
        },
        "id": "KFTr0BP-WJUN",
        "outputId": "35b502db-a3df-470a-be06-b83b2daa6c26"
      },
      "execution_count": null,
      "outputs": [
        {
          "output_type": "stream",
          "name": "stdout",
          "text": [
            "root        4337    2797 13 03:34 ?        00:00:11 /usr/bin/python3 /usr/local/bin/vllm serve meta-llama/Llama-3.2-1B --trust-remote-code --dtype half\n",
            "root        4823    2797  0 03:36 ?        00:00:00 /bin/bash -c ps -ef | grep vllm\n",
            "root        4825    4823  0 03:36 ?        00:00:00 grep vllm\n"
          ]
        }
      ]
    },
    {
      "cell_type": "code",
      "source": [
        "!curl http://localhost:8000/v1/models"
      ],
      "metadata": {
        "colab": {
          "base_uri": "https://localhost:8080/"
        },
        "id": "ORbp8FCwWX_u",
        "outputId": "23580dbe-1553-461a-8566-cb07d7c6209b"
      },
      "execution_count": null,
      "outputs": [
        {
          "output_type": "stream",
          "name": "stdout",
          "text": [
            "{\"object\":\"list\",\"data\":[{\"id\":\"meta-llama/Llama-3.2-1B\",\"object\":\"model\",\"created\":1744860976,\"owned_by\":\"vllm\",\"root\":\"meta-llama/Llama-3.2-1B\",\"parent\":null,\"max_model_len\":131072,\"permission\":[{\"id\":\"modelperm-d5cc67e52a72424ca25684853fb848c4\",\"object\":\"model_permission\",\"created\":1744860976,\"allow_create_engine\":false,\"allow_sampling\":true,\"allow_logprobs\":true,\"allow_search_indices\":false,\"allow_view\":true,\"allow_fine_tuning\":false,\"organization\":\"*\",\"group\":null,\"is_blocking\":false}]}]}"
          ]
        }
      ]
    },
    {
      "cell_type": "code",
      "source": [
        "from openai import OpenAI\n",
        "\n",
        "openai_api_key = \"vllm\"\n",
        "openai_api_base = \"http://localhost:8000/v1\"\n",
        "client = OpenAI(\n",
        "    api_key=openai_api_key,\n",
        "    base_url=openai_api_base,\n",
        ")\n",
        "prompt = \"Why is the sky blue?\"\n",
        "completion = client.completions.create(model=\"meta-llama/Llama-3.2-1B\",\n",
        "                                      prompt=prompt, max_tokens=10000)\n",
        "print(completion.choices[0].text)\n"
      ],
      "metadata": {
        "colab": {
          "base_uri": "https://localhost:8080/"
        },
        "id": "Q0saKg5ZWTGA",
        "outputId": "e0a47774-dc13-4846-b1d2-d7d515837f37"
      },
      "execution_count": null,
      "outputs": [
        {
          "output_type": "stream",
          "name": "stdout",
          "text": [
            " What is the sky made of? What is the sky made of? The sky is made up of a mixture of different gases. The gas that makes up the sky is called air. The air is made up of different gases. The air is made up of nitrogen, oxygen, and argon. The air is made up of nitrogen, oxygen, and argon. The air is made up of nitrogen, oxygen, and argon. The air is made up of nitrogen, oxygen, and argon. The air is made up of nitrogen, oxygen, and argon. The air is made up of nitrogen, oxygen, and argon. The air is made up of nitrogen, oxygen, and argon. The air is made up of nitrogen, oxygen, and argon. The air is made up of nitrogen, oxygen, and argon. The air is made up of nitrogen, oxygen, and argon. The air is made up of nitrogen, oxygen, and argon. The air is made up of nitrogen, oxygen, and argon. The air is made up of nitrogen, oxygen, and argon. The air is made up of nitrogen, oxygen, and argon. The air is made up of nitrogen, oxygen, and argon. The air is made up of nitrogen, oxygen, and argon. The air is made up of nitrogen, oxygen, and argon. The air is made up of nitrogen, oxygen, and argon. The air is made up of nitrogen, oxygen, and argon. The air is made up of nitrogen, oxygen, and argon. The air is made up of nitrogen, oxygen, and argon. The air is made up of nitrogen, oxygen, and argon. The air is made up of nitrogen, oxygen, and argon. The air is made up of nitrogen, oxygen, and argon. The air is made up of nitrogen, oxygen, and argon. The air is made up of nitrogen, oxygen, and argon. The air is made up of nitrogen, oxygen, and argon. The air is made up of nitrogen, oxygen, and argon. The air is made up of nitrogen, oxygen, and argon. The air is made up of nitrogen, oxygen, and argon. The air is made up of nitrogen, oxygen, and argon. The air is made up of nitrogen, oxygen, and argon. The air is made up of nitrogen, oxygen, and argon. The air is made up of nitrogen, oxygen, and argon. The air is made up of nitrogen, oxygen, and argon. The air is made up of nitrogen, oxygen, and argon. The air is made up of nitrogen, oxygen, and argon. The air is made up of nitrogen, oxygen, and argon. The air is made up of nitrogen, oxygen, and argon. The air is made up of nitrogen, oxygen, and argon. The air is made up of nitrogen, oxygen, and argon. The air is made up of nitrogen, oxygen, and argon. The air is made up of nitrogen, oxygen, and argon. The air is made up of nitrogen, oxygen, and argon. The air is made up of nitrogen, oxygen, and argon. The air is made up of nitrogen, oxygen, and argon. The air is made up of nitrogen, oxygen, and argon. The air is made up of nitrogen, oxygen, and argon. The air is made up of nitrogen, oxygen, and argon. The air is made up of nitrogen, oxygen, and argon. The air is made up of nitrogen, oxygen, and argon. The air is made up of nitrogen, oxygen, and argon. The air is made up of nitrogen, oxygen, and argon. The air is made up of nitrogen, oxygen, and argon. The air is made up of nitrogen, oxygen, and argon. The air is made up of nitrogen, oxygen, and argon. The air is made up of nitrogen, oxygen, and argon. The air is made up of nitrogen, oxygen, and argon. The air is made up of nitrogen, oxygen, and argon. The air is made up of nitrogen, oxygen, and argon. The air is made up of nitrogen, oxygen, and argon. The air is made up of nitrogen, oxygen, and argon. The air is made up of nitrogen, oxygen, and argon. The air is made up of nitrogen, oxygen, and argon. The air is made up of nitrogen, oxygen, and argon. The air is made up of nitrogen, oxygen, and argon. The air is made up of nitrogen, oxygen, and argon. The air is made up of nitrogen, oxygen, and argon. The air is made up of nitrogen, oxygen, and argon. The air is made up of nitrogen, oxygen, and argon. The air is made up of nitrogen, oxygen, and argon. The air is made up of nitrogen, oxygen, and argon. The air is made up of nitrogen, oxygen, and argon. The air is made up of nitrogen, oxygen, and argon. The air is made up of nitrogen, oxygen, and argon. The air is made up of nitrogen, oxygen, and argon. The air is made up of nitrogen, oxygen, and argon. The air is made up of nitrogen, oxygen, and argon. The air is made up of nitrogen, oxygen, and argon. The air is made up of nitrogen, oxygen, and argon. The air is made up of nitrogen, oxygen, and argon. The air is made up of nitrogen, oxygen, and argon. The air is made up of nitrogen, oxygen, and argon. The air is made up of nitrogen, oxygen, and argon. The air is made up of nitrogen, oxygen, and argon. The air is made up of nitrogen, oxygen, and argon. The air is made up of nitrogen, oxygen, and argon. The air is made up of nitrogen, oxygen, and argon. The air is made up of nitrogen, oxygen, and argon. The air is made up of nitrogen, oxygen, and argon. The air is made up of nitrogen, oxygen, and argon. The air is made up of nitrogen, oxygen, and argon. The air is made up of nitrogen, oxygen, and argon. The air is made up of nitrogen, oxygen, and argon. The air is made up of nitrogen, oxygen, and argon. The air is made up of nitrogen, oxygen, and argon. The air is made up of nitrogen, oxygen, and argon. The air is made up of nitrogen, oxygen, and argon. The air is made up of nitrogen, oxygen, and argon. The air is made up of nitrogen, oxygen, and argon. The air is made up of nitrogen, oxygen, and argon. The air is made up of nitrogen, oxygen, and argon. The air is made up of nitrogen, oxygen, and argon. The air is made up of nitrogen, oxygen, and argon. The air is made up of nitrogen, oxygen, and argon. The air is made up of nitrogen, oxygen, and argon. The air is made up of nitrogen, oxygen, and argon. The air is made up of nitrogen, oxygen, and argon. The air is made up of nitrogen, oxygen, and argon. The air is made up of nitrogen, oxygen, and argon. The air is made up of nitrogen, oxygen, and argon. The air is made up of nitrogen, oxygen, and argon. The air is made up of nitrogen, oxygen, and argon. The air is made up of nitrogen, oxygen, and argon. The air is made up of nitrogen, oxygen, and argon. The air is made up of nitrogen, oxygen, and argon. The air is made up of nitrogen, oxygen, and argon. The air is made up of nitrogen, oxygen, and argon. The air is made up of nitrogen, oxygen, and argon. The air is made up of nitrogen, oxygen, and argon. The air is made up of nitrogen, oxygen, and argon. The air is made up of nitrogen, oxygen, and argon. The air is made up of nitrogen, oxygen, and argon. The air is made up of nitrogen, oxygen, and argon. The air is made up of nitrogen, oxygen, and argon. The air is made up of nitrogen, oxygen, and argon. The air is made up of nitrogen, oxygen, and argon. The air is made up of nitrogen, oxygen, and argon. The air is made up of nitrogen, oxygen, and argon. The air is made up of nitrogen, oxygen, and argon. The air is made up of nitrogen, oxygen, and argon. The air is made up of nitrogen, oxygen, and argon. The air is made up of nitrogen, oxygen, and argon. The air is made up of nitrogen, oxygen, and argon. The air is made up of nitrogen, oxygen, and argon. The air is made up of nitrogen, oxygen, and argon. The air is made up of nitrogen, oxygen, and argon. The air is made up of nitrogen, oxygen, and argon. The air is made up of nitrogen, oxygen, and argon. The air is made up of nitrogen, oxygen, and argon. The air is made up of nitrogen, oxygen, and argon. The air is made up of nitrogen, oxygen, and argon. The air is made up of nitrogen, oxygen, and argon. The air is made up of nitrogen, oxygen, and argon. The air is made up of nitrogen, oxygen, and argon. The air is made up of nitrogen, oxygen, and argon. The air is made up of nitrogen, oxygen, and argon. The air is made up of nitrogen, oxygen, and argon. The air is made up of nitrogen, oxygen, and argon. The air is made up of nitrogen, oxygen, and argon. The air is made up of nitrogen, oxygen, and argon. The air is made up of nitrogen, oxygen, and argon. The air is made up of nitrogen, oxygen, and argon. The air is made up of nitrogen, oxygen, and argon. The air is made up of nitrogen, oxygen, and argon. The air is made up of nitrogen, oxygen, and argon. The air is made up of nitrogen, oxygen, and argon. The air is made up of nitrogen, oxygen, and argon. The air is made up of nitrogen, oxygen, and argon. The air is made up of nitrogen, oxygen, and argon. The air is made up of nitrogen, oxygen, and argon. The air is made up of nitrogen, oxygen, and argon. The air is made up of nitrogen, oxygen, and argon. The air is made up of nitrogen, oxygen, and argon. The air is made up of nitrogen, oxygen, and argon. The air is made up of nitrogen, oxygen, and argon. The air is made up of nitrogen, oxygen, and argon. The air is made up of nitrogen, oxygen, and argon. The air is made up of nitrogen, oxygen, and argon. The air is made up of nitrogen, oxygen, and argon. The air is made up of nitrogen, oxygen, and argon. The air is made up of nitrogen, oxygen, and argon. The air is made up of nitrogen, oxygen, and argon. The air is made up of nitrogen, oxygen, and argon. The air is made up of nitrogen, oxygen, and argon. The air is made up of nitrogen, oxygen, and argon. The air is made up of nitrogen, oxygen, and argon. The air is made up of nitrogen, oxygen, and argon. The air is made up of nitrogen, oxygen, and argon. The air is made up of nitrogen, oxygen, and argon. The air is made up of nitrogen, oxygen, and argon. The air is made up of nitrogen, oxygen, and argon. The air is made up of nitrogen, oxygen, and argon. The air is made up of nitrogen, oxygen, and argon. The air is made up of nitrogen, oxygen, and argon. The air is made up of nitrogen, oxygen, and argon. The air is made up of nitrogen, oxygen, and argon. The air is made up of nitrogen, oxygen, and argon. The air is made up of nitrogen, oxygen, and argon. The air is made up of nitrogen, oxygen, and argon. The air is made up of nitrogen, oxygen, and argon. The air is made up of nitrogen, oxygen, and argon. The air is made up of nitrogen, oxygen, and argon. The air is made up of nitrogen, oxygen, and argon. The air is made up of nitrogen, oxygen, and argon. The air is made up of nitrogen, oxygen, and argon. The air is made up of nitrogen, oxygen, and argon. The air is made up of nitrogen, oxygen, and argon. The air is made up of nitrogen, oxygen, and argon. The air is made up of nitrogen, oxygen, and argon. The air is made up of nitrogen, oxygen, and argon. The air is made up of nitrogen, oxygen, and argon. The air is made up of nitrogen, oxygen, and argon. The air is made up of nitrogen, oxygen, and argon. The air is made up of nitrogen, oxygen, and argon. The air is made up of nitrogen, oxygen, and argon. The air is made up of nitrogen, oxygen, and argon. The air is made up of nitrogen, oxygen, and argon. The air is made up of nitrogen, oxygen, and argon. The air is made up of nitrogen, oxygen, and argon. The air is made up of nitrogen, oxygen, and argon. The air is made up of nitrogen, oxygen, and argon. The air is made up of nitrogen, oxygen, and argon. The air is made up of nitrogen, oxygen, and argon. The air is made up of nitrogen, oxygen, and argon. The air is made up of nitrogen, oxygen, and argon. The air is made up of nitrogen, oxygen, and argon. The air is made up of nitrogen, oxygen, and argon. The air is made up of nitrogen, oxygen, and argon. The air is made up of nitrogen, oxygen, and argon. The air is made up of nitrogen, oxygen, and argon. The air is made up of nitrogen, oxygen, and argon. The air is made up of nitrogen, oxygen, and argon. The air is made up of nitrogen, oxygen, and argon. The air is made up of nitrogen, oxygen, and argon. The air is made up of nitrogen, oxygen, and argon. The air is made up of nitrogen, oxygen, and argon. The air is made up of nitrogen, oxygen, and argon. The air is made up of nitrogen, oxygen, and argon. The air is made up of nitrogen, oxygen, and argon. The air is made up of nitrogen, oxygen, and argon. The air is made up of nitrogen, oxygen, and argon. The air is made up of nitrogen, oxygen, and argon. The air is made up of nitrogen, oxygen, and argon. The air is made up of nitrogen, oxygen, and argon. The air is made up of nitrogen, oxygen, and argon. The air is made up of nitrogen, oxygen, and argon. The air is made up of nitrogen, oxygen, and argon. The air is made up of nitrogen, oxygen, and argon. The air is made up of nitrogen, oxygen, and argon. The air is made up of nitrogen, oxygen, and argon. The air is made up of nitrogen, oxygen, and argon. The air is made up of nitrogen, oxygen, and argon. The air is made up of nitrogen, oxygen, and argon. The air is made up of nitrogen, oxygen, and argon. The air is made up of nitrogen, oxygen, and argon. The air is made up of nitrogen, oxygen, and argon. The air is made up of nitrogen, oxygen, and argon. The air is made up of nitrogen, oxygen, and argon. The air is made up of nitrogen, oxygen, and argon. The air is made up of nitrogen, oxygen, and argon. The air is made up of nitrogen, oxygen, and argon. The air is made up of nitrogen, oxygen, and argon. The air is made up of nitrogen, oxygen, and argon. The air is made up of nitrogen, oxygen, and argon. The air is made up of nitrogen, oxygen, and argon. The air is made up of nitrogen, oxygen, and argon. The air is made up of nitrogen, oxygen, and argon. The air is made up of nitrogen, oxygen, and argon. The air is made up of nitrogen, oxygen, and argon. The air is made up of nitrogen, oxygen, and argon. The air is made up of nitrogen, oxygen, and argon. The air is made up of nitrogen, oxygen, and argon. The air is made up of nitrogen, oxygen, and argon. The air is made up of nitrogen, oxygen, and argon. The air is made up of nitrogen, oxygen, and argon. The air is made up of nitrogen, oxygen, and argon. The air is made up of nitrogen, oxygen, and argon. The air is made up of nitrogen, oxygen, and argon. The air is made up of nitrogen, oxygen, and argon. The air is made up of nitrogen, oxygen, and argon. The air is made up of nitrogen, oxygen, and argon. The air is made up of nitrogen, oxygen, and argon. The air is made up of nitrogen, oxygen, and argon. The air is made up of nitrogen, oxygen, and argon. The air is made up of nitrogen, oxygen, and argon. The air is made up of nitrogen, oxygen, and argon. The air is made up of nitrogen, oxygen, and argon. The air is made up of nitrogen, oxygen, and argon. The air is made up of nitrogen, oxygen, and argon. The air is made up of nitrogen, oxygen, and argon. The air is made up of nitrogen, oxygen, and argon. The air is made up of nitrogen, oxygen, and argon. The air is made up of nitrogen, oxygen, and argon. The air is made up of nitrogen, oxygen, and argon. The air is made up of nitrogen, oxygen, and argon. The air is made up of nitrogen, oxygen, and argon. The air is made up of nitrogen, oxygen, and argon. The air is made up of nitrogen, oxygen, and argon. The air is made up of nitrogen, oxygen, and argon. The air is made up of nitrogen, oxygen, and argon. The air is made up of nitrogen, oxygen, and argon. The air is made up of nitrogen, oxygen, and argon. The air is made up of nitrogen, oxygen, and argon. The air is made up of nitrogen, oxygen, and argon. The air is made up of nitrogen, oxygen, and argon. The air is made up of nitrogen, oxygen, and argon. The air is made up of nitrogen, oxygen, and argon. The air is made up of nitrogen, oxygen, and argon. The air is made up of nitrogen, oxygen, and argon. The air is made up of nitrogen, oxygen, and argon. The air is made up of nitrogen, oxygen, and argon. The air is made up of nitrogen, oxygen, and argon. The air is made up of nitrogen, oxygen, and argon. The air is made up of nitrogen, oxygen, and argon. The air is made up of nitrogen, oxygen, and argon. The air is made up of nitrogen, oxygen, and argon. The air is made up of nitrogen, oxygen, and argon. The air is made up of nitrogen, oxygen, and argon. The air is made up of nitrogen, oxygen, and argon. The air is made up of nitrogen, oxygen, and argon. The air is made up of nitrogen, oxygen, and argon. The air is made up of nitrogen, oxygen, and argon. The air is made up of nitrogen, oxygen, and argon. The air is made up of nitrogen, oxygen, and argon. The air is made up of nitrogen, oxygen, and argon. The air is made up of nitrogen, oxygen, and argon. The air is made up of nitrogen, oxygen, and argon. The air is made up of nitrogen, oxygen, and argon. The air is made up of nitrogen, oxygen, and argon. The air is made up of nitrogen, oxygen, and argon. The air is made up of nitrogen, oxygen, and argon. The air is made up of nitrogen, oxygen, and argon. The air is made up of nitrogen, oxygen, and argon. The air is made up of nitrogen, oxygen, and argon. The air is made up of nitrogen, oxygen, and argon. The air is made up of nitrogen, oxygen, and argon. The air is made up of nitrogen, oxygen, and argon. The air is made up of nitrogen, oxygen, and argon. The air is made up of nitrogen, oxygen, and argon. The air is made up of nitrogen, oxygen, and argon. The air is made up of nitrogen, oxygen, and argon. The air is made up of nitrogen, oxygen, and argon. The air is made up of nitrogen, oxygen, and argon. The air is made up of nitrogen, oxygen, and argon. The air is made up of nitrogen, oxygen, and argon. The air is made up of nitrogen, oxygen, and argon. The air is made up of nitrogen, oxygen, and argon. The air is made up of nitrogen, oxygen, and argon. The air is made up of nitrogen, oxygen, and argon. The air is made up of nitrogen, oxygen, and argon. The air is made up of nitrogen, oxygen, and argon. The air is made up of nitrogen, oxygen, and argon. The air is made up of nitrogen, oxygen, and argon. The air is made up of nitrogen, oxygen, and argon. The air is made up of nitrogen, oxygen, and argon. The air is made up of nitrogen, oxygen, and argon. The air is made up of nitrogen, oxygen, and argon. The air is made up of nitrogen, oxygen, and argon. The air is made up of nitrogen, oxygen, and argon. The air is made up of nitrogen, oxygen, and argon. The air is made up of nitrogen, oxygen, and argon. The air is made up of nitrogen, oxygen, and argon. The air is made up of nitrogen, oxygen, and argon. The air is made up of nitrogen, oxygen, and argon. The air is made up of nitrogen, oxygen, and argon. The air is made up of nitrogen, oxygen, and argon. The air is made up of nitrogen, oxygen, and argon. The air is made up of nitrogen, oxygen, and argon. The air is made up of nitrogen, oxygen, and argon. The air is made up of nitrogen, oxygen, and argon. The air is made up of nitrogen, oxygen, and argon. The air is made up of nitrogen, oxygen, and argon. The air is made up of nitrogen, oxygen, and argon. The air is made up of nitrogen, oxygen, and argon. The air is made up of nitrogen, oxygen, and argon. The air is made up of nitrogen, oxygen, and argon. The air is made up of nitrogen, oxygen, and argon. The air is made up of nitrogen, oxygen, and argon. The air is made up of nitrogen, oxygen, and argon. The air is made up of nitrogen, oxygen, and argon. The air is made up of nitrogen, oxygen, and argon. The air is made up of nitrogen, oxygen, and argon. The air is made up of nitrogen, oxygen, and argon. The air is made up of nitrogen, oxygen, and argon. The air is made up of nitrogen, oxygen, and argon. The air is made up of nitrogen, oxygen, and argon. The air is made up of nitrogen, oxygen, and argon. The air is made up of nitrogen, oxygen, and argon. The air is made up of nitrogen, oxygen, and argon. The air is made up of nitrogen, oxygen, and argon. The air is made up of nitrogen, oxygen, and argon. The air is made up of nitrogen, oxygen, and argon. The air is made up of nitrogen, oxygen, and argon. The air is made up of nitrogen, oxygen, and argon. The air is made up of nitrogen, oxygen, and argon. The air is made up of nitrogen, oxygen, and argon. The air is made up of nitrogen, oxygen, and argon. The air is made up of nitrogen, oxygen, and argon. The air is made up of nitrogen, oxygen, and argon. The air is made up of nitrogen, oxygen, and argon. The air is made up of nitrogen, oxygen, and argon. The air is made up of nitrogen, oxygen, and argon. The air is made up of nitrogen, oxygen, and argon. The air is made up of nitrogen, oxygen, and argon. The air is made up of nitrogen, oxygen, and argon. The air is made up of nitrogen, oxygen, and argon. The air is made up of nitrogen, oxygen, and argon. The air is made up of nitrogen, oxygen, and argon. The air is made up of nitrogen, oxygen, and argon. The air is made up of nitrogen, oxygen, and argon. The air is made up of nitrogen, oxygen, and argon. The air is made up of nitrogen, oxygen, and argon. The air is made up of nitrogen, oxygen, and argon. The air is made up of nitrogen, oxygen, and argon. The air is made up of nitrogen, oxygen, and argon. The air is made up of nitrogen, oxygen, and argon. The air is made up of nitrogen, oxygen, and argon. The air is made up of nitrogen, oxygen, and argon. The air is made up of nitrogen, oxygen, and argon. The air is made up of nitrogen, oxygen, and argon. The air is made up of nitrogen, oxygen, and argon. The air is made up of nitrogen, oxygen, and argon. The air is made up of nitrogen, oxygen, and argon. The air is made up of nitrogen, oxygen, and argon. The air is made up of nitrogen, oxygen, and argon. The air is made up of nitrogen, oxygen, and argon. The air is made up of nitrogen, oxygen, and argon. The air is made up of nitrogen, oxygen, and argon. The air is made up of nitrogen, oxygen, and argon. The air is made up of nitrogen, oxygen, and argon. The air is made up of nitrogen, oxygen, and argon. The air is made up of nitrogen, oxygen, and argon. The air is made up of nitrogen, oxygen, and argon. The air is made up of nitrogen, oxygen, and argon. The air is made up of nitrogen, oxygen, and argon. The air is made up of nitrogen, oxygen, and argon. The air is made up of nitrogen, oxygen, and argon. The air is made up of nitrogen, oxygen, and argon. The air is made up of nitrogen, oxygen, and argon. The air is made up of nitrogen, oxygen, and argon. The air is made up of nitrogen, oxygen, and argon. The air is made up of nitrogen, oxygen, and argon. The air is made up of nitrogen, oxygen, and argon. The air is made up of nitrogen, oxygen, and argon. The air is made up of nitrogen, oxygen, and argon. The air is made up of nitrogen, oxygen, and argon. The air is made up of nitrogen, oxygen, and argon. The air is made up of nitrogen, oxygen, and argon. The air is made up of nitrogen, oxygen, and argon. The air is made up of nitrogen, oxygen, and argon. The air is made up of nitrogen, oxygen, and argon. The air is made up of nitrogen, oxygen, and argon. The air is made up of nitrogen, oxygen, and argon. The air is made up of nitrogen, oxygen, and argon. The air is made up of nitrogen, oxygen, and argon. The air is made up of nitrogen, oxygen, and argon. The air is made up of nitrogen, oxygen, and argon. The air is made up of nitrogen, oxygen, and argon. The air is made up of nitrogen, oxygen, and argon. The air is made up of nitrogen, oxygen, and argon. The air is made up of nitrogen, oxygen, and argon. The air is made up of nitrogen, oxygen, and argon. The air is made up of nitrogen, oxygen, and argon. The air is made up of nitrogen, oxygen, and argon. The air is made up of nitrogen, oxygen, and argon. The air is made up of nitrogen, oxygen, and argon. The air is made up of nitrogen, oxygen, and argon. The air is made up of nitrogen, oxygen, and argon. The air is made up of nitrogen, oxygen, and argon. The air is made up of nitrogen, oxygen, and argon. The air is made up of nitrogen, oxygen, and argon. The air is made up of nitrogen, oxygen, and argon. The air is made up of nitrogen, oxygen, and argon. The air is made up of nitrogen, oxygen, and argon. The air is made up of nitrogen, oxygen, and argon. The air is made up of nitrogen, oxygen, and argon. The air is made up of nitrogen, oxygen, and argon. The air is made up of nitrogen, oxygen, and argon. The air is made up of nitrogen, oxygen, and argon. The air is made up of nitrogen, oxygen, and argon. The air is made up of nitrogen, oxygen, and argon. The air is made up of nitrogen, oxygen, and argon. The air is made up of nitrogen, oxygen, and argon. The air is made up of nitrogen, oxygen, and argon. The air is made up of nitrogen, oxygen, and argon. The air is made up of nitrogen, oxygen, and argon. The air is made up of nitrogen, oxygen, and argon. The air is made up of nitrogen, oxygen, and argon. The air is made up of nitrogen, oxygen, and argon. The air is made up of nitrogen, oxygen, and argon. The air is made up of nitrogen, oxygen, and argon. The air is made up of nitrogen, oxygen, and argon. The air is made up of nitrogen, oxygen, and argon. The air is made up of nitrogen, oxygen, and argon. The air is made up of nitrogen, oxygen, and argon. The air is made up of nitrogen, oxygen, and argon. The air is made up of nitrogen, oxygen, and argon. The air is made up of nitrogen, oxygen, and argon. The air is made up of nitrogen, oxygen, and argon. The air is made up of nitrogen, oxygen, and argon. The air is made up of nitrogen, oxygen, and argon. The air is made up of nitrogen, oxygen, and argon. The air is made up of nitrogen, oxygen, and argon. The air is made up of nitrogen, oxygen, and argon. The air is made up of nitrogen, oxygen, and argon. The air is made up of nitrogen, oxygen, and argon. The air is made up of nitrogen, oxygen, and argon. The air is made up of nitrogen, oxygen, and argon. The air is made up of nitrogen, oxygen, and argon. The air is made up of nitrogen, oxygen, and argon. The air is made up of nitrogen, oxygen, and argon. The air is made up of nitrogen, oxygen, and argon. The air is made up of nitrogen, oxygen, and argon. The air is made up of nitrogen, oxygen, and argon. The air is made up of nitrogen, oxygen, and argon. The air is made up of nitrogen, oxygen, and argon. The air is made up of nitrogen, oxygen, and argon. The air is made up of nitrogen, oxygen, and argon. The air is made up of nitrogen, oxygen, and argon. The air is made up of nitrogen, oxygen, and argon. The air is made up of nitrogen, oxygen, and argon. The air is made up of nitrogen, oxygen, and argon. The air is made up of nitrogen, oxygen, and argon. The air is made up of nitrogen, oxygen, and argon. The air is made up of nitrogen, oxygen, and argon. The air is made up of nitrogen, oxygen, and argon. The air is made up of nitrogen, oxygen, and argon. The air is made up of nitrogen, oxygen, and argon. The air is made up of nitrogen, oxygen, and argon. The air is made up of nitrogen, oxygen, and argon. The air is made up of nitrogen, oxygen, and argon. The air is made up of nitrogen, oxygen, and argon. The air is made up of nitrogen, oxygen, and argon. The air is made up of nitrogen, oxygen, and argon. The air is made up of nitrogen, oxygen, and argon. The air is made up of nitrogen, oxygen, and argon. The air is made up of nitrogen, oxygen, and argon. The air is made up of nitrogen, oxygen, and argon. The air is made up of nitrogen, oxygen, and argon. The air is made up of nitrogen, oxygen, and argon. The air is made up of nitrogen, oxygen, and argon. The air is made up of nitrogen, oxygen, and argon. The air is made up of nitrogen, oxygen, and argon. The air is made up of nitrogen, oxygen, and argon. The air is made up of nitrogen, oxygen, and argon. The air is made up of nitrogen, oxygen, and argon. The air is made up of nitrogen, oxygen, and argon. The air is made up of nitrogen, oxygen, and argon. The air is made up of nitrogen, oxygen, and argon. The air is made up of nitrogen, oxygen, and argon. The air is made up of nitrogen, oxygen, and argon. The air is made up of nitrogen, oxygen, and argon. The air is made up of nitrogen, oxygen, and argon. The air is made up of nitrogen, oxygen, and argon. The air is made up of nitrogen, oxygen, and argon. The air is made up of nitrogen, oxygen, and argon. The air is made up of nitrogen, oxygen, and argon. The air is made up of nitrogen, oxygen, and argon. The air is made up of nitrogen, oxygen, and argon. The air is made up of nitrogen, oxygen, and argon. The air is made up of nitrogen, oxygen, and argon. The air is made up of nitrogen, oxygen, and argon. The air is made up of nitrogen, oxygen, and argon. The air is made up of nitrogen, oxygen, and argon. The air is made up of nitrogen, oxygen, and argon. The air is made up of nitrogen, oxygen, and argon. The air is made up of nitrogen, oxygen, and argon. The air is made up of nitrogen, oxygen, and argon. The air is made up of nitrogen, oxygen, and argon. The air is made up of nitrogen, oxygen, and argon. The air is made up of nitrogen, oxygen, and argon. The air is made up of nitrogen, oxygen, and argon. The air is made up of nitrogen, oxygen, and argon. The air is made up of nitrogen, oxygen, and argon. The air is made up of nitrogen, oxygen, and argon. The air is made up of nitrogen, oxygen, and argon. The air is made up of nitrogen, oxygen, and argon. The air is made up of nitrogen, oxygen, and argon. The air is made up of nitrogen, oxygen, and argon. The air is made up of nitrogen, oxygen, and argon. The air is made up of nitrogen, oxygen, and argon. The air is made up of nitrogen, oxygen, and argon. The air is made up of nitrogen, oxygen, and argon. The air is made up of nitrogen, oxygen, and argon. The air is made up of nitrogen, oxygen, and argon. The air is made up of nitrogen, oxygen, and argon. The air is made up of nitrogen, oxygen, and argon. The air is made up of nitrogen, oxygen, and argon. The air is made up of nitrogen, oxygen, and argon. The air is made up of nitrogen, oxygen, and argon. The air is made up of nitrogen, oxygen, and argon. The air is made up of nitrogen, oxygen, and argon. The air is made up of nitrogen, oxygen, and argon. The air is made up of nitrogen, oxygen, and argon. The air is made up of nitrogen, oxygen, and argon. The air is made up of nitrogen, oxygen, and argon. The air is made up of nitrogen, oxygen, and argon. The air is made up of nitrogen, oxygen, and argon. The air is made up of nitrogen, oxygen, and argon. The air is made up of nitrogen, oxygen, and argon. The air is made up of nitrogen, oxygen, and argon. The air is made up of nitrogen, oxygen, and argon. The air is made up of nitrogen, oxygen, and argon. The air is made up of nitrogen, oxygen, and argon. The air is made up of nitrogen, oxygen, and argon. The air is made up of nitrogen, oxygen, and argon. The air is made up of nitrogen, oxygen, and argon. The air is made up of nitrogen, oxygen, and argon. The air is made up of nitrogen, oxygen, and argon. The air is made up of nitrogen, oxygen, and argon. The air is made up of nitrogen, oxygen, and argon. The air is made up of nitrogen, oxygen, and argon. The air is made up of nitrogen, oxygen, and argon. The air is made up of nitrogen, oxygen, and argon. The air is made up of nitrogen, oxygen, and argon. The air is made up of nitrogen, oxygen, and argon. The air is made up of nitrogen, oxygen, and argon. The air is made up of nitrogen, oxygen, and argon. The air is made up of nitrogen, oxygen, and argon. The air is made up of nitrogen, oxygen, and argon. The air is made up of nitrogen, oxygen, and argon. The air is made up of nitrogen, oxygen, and argon. The air is made up of nitrogen, oxygen, and argon. The air is made up of nitrogen, oxygen, and argon. The air is made up of nitrogen, oxygen, and argon. The air is made up of nitrogen, oxygen, and argon. The air is made up of nitrogen, oxygen, and argon. The air is made up of nitrogen, oxygen, and argon. The air is made up of nitrogen, oxygen, and argon. The air is made up of nitrogen, oxygen, and argon. The air is made up of nitrogen, oxygen, and argon. The air is made up of nitrogen, oxygen, and argon. The air is made up of nitrogen, oxygen, and argon. The air is made up of nitrogen, oxygen, and argon. The air is made up of nitrogen, oxygen, and argon. The air is made up of nitrogen, oxygen, and argon. The air is made up of nitrogen, oxygen, and argon. The air is made up of nitrogen, oxygen, and argon. The air is made up of nitrogen, oxygen, and argon. The air is made up of nitrogen, oxygen, and argon. The air is made up of nitrogen, oxygen, and argon. The air is made up of nitrogen, oxygen, and argon. The air is made up of nitrogen, oxygen, and argon. The air is made up of nitrogen, oxygen, and argon. The air is made up of nitrogen, oxygen, and argon. The air is made up of nitrogen, oxygen, and argon. The air is made up of nitrogen, oxygen, and argon. The air is made up of nitrogen, oxygen, and argon. The air is made up of nitrogen, oxygen, and argon. The air is made up of nitrogen, oxygen, and argon. The air is made up of nitrogen, oxygen, and argon. The air is made up of nitrogen, oxygen, and argon. The air is made up of nitrogen, oxygen, and argon. The air is made up of nitrogen, oxygen, and argon. The air is made up of nitrogen, oxygen, and argon. The air is made up of nitrogen, oxygen, and argon. The air is made up of nitrogen, oxygen, and argon. The air is made up of nitrogen, oxygen, and argon. The air is made up of nitrogen, oxygen, and argon. The air is made up of nitrogen, oxygen, and argon. The air is made up of nitrogen, oxygen, and argon. The air is made up of nitrogen, oxygen, and argon. The air is made up of nitrogen, oxygen, and argon. The air is made up of nitrogen, oxygen, and argon. The air is made up of nitrogen, oxygen, and argon. The air is made up of nitrogen, oxygen, and argon. The air is made up of nitrogen, oxygen, and argon. The air is made up of nitrogen, oxygen, and argon. The air is made up of nitrogen, oxygen, and argon. The air is made up of nitrogen, oxygen, and argon. The air is made up of nitrogen, oxygen, and argon. The air is made up of nitrogen, oxygen, and argon. The air is made up of nitrogen, oxygen, and argon. The air is made up of nitrogen, oxygen, and argon. The air is made up of nitrogen, oxygen, and argon. The air is made up of nitrogen, oxygen, and argon. The air is made up of nitrogen, oxygen, and argon. The air is made up of nitrogen, oxygen, and argon. The air is made up of nitrogen, oxygen, and argon. The air is made up of nitrogen, oxygen, and argon. The air is made up of nitrogen, oxygen, and argon. The air is made up of nitrogen, oxygen, and argon. The air is made up of nitrogen, oxygen, and argon. The air is made up of nitrogen, oxygen, and argon. The air is made up of nitrogen, oxygen, and argon. The air is made up of nitrogen, oxygen, and argon. The air is made up of nitrogen, oxygen, and argon. The air is made up of nitrogen, oxygen, and argon. The air is made up of nitrogen, oxygen, and argon. The air is made up of nitrogen, oxygen, and argon. The air is made up of nitrogen, oxygen, and argon. The air is made up of nitrogen, oxygen, and argon. The air is made up of nitrogen, oxygen, and argon. The air is made up of nitrogen, oxygen, and argon. The air is made up of nitrogen, oxygen, and argon. The air is made up of nitrogen, oxygen, and argon. The air is made up of nitrogen, oxygen, and argon. The air is made up of nitrogen, oxygen, and argon. The air is made up of nitrogen, oxygen, and argon. The air is made up of nitrogen, oxygen, and argon. The air is made up of nitrogen, oxygen, and argon. The air is made up of nitrogen, oxygen, and argon. The air is made up of nitrogen, oxygen, and argon. The air is made up of nitrogen, oxygen, and argon. The air is made up of nitrogen, oxygen, and argon. The air is made up of nitrogen, oxygen, and argon. The air is made up of nitrogen, oxygen, and argon. The air is made up of nitrogen, oxygen, and argon. The air is made up of nitrogen, oxygen, and argon. The air is made up of nitrogen, oxygen, and argon. The air is made up of nitrogen, oxygen, and argon. The air is made up of nitrogen, oxygen, and argon. The air is made up of nitrogen, oxygen, and argon. The air is made up of nitrogen, oxygen, and argon. The air is made up of nitrogen, oxygen, and argon. The air is made up of nitrogen, oxygen, and argon. The air is made up of nitrogen, oxygen, and argon. The air is made up of nitrogen, oxygen, and argon. The air is made up of nitrogen, oxygen, and argon. The air is made up of nitrogen, oxygen, and argon.\n"
          ]
        }
      ]
    },
    {
      "cell_type": "code",
      "source": [
        "!kill"
      ],
      "metadata": {
        "id": "CbXbLpcXYE__"
      },
      "execution_count": null,
      "outputs": []
    },
    {
      "cell_type": "code",
      "source": [],
      "metadata": {
        "id": "NNb-_WzKXJjp"
      },
      "execution_count": null,
      "outputs": []
    }
  ]
}